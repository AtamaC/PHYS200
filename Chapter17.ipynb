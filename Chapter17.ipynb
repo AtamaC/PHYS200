{
 "metadata": {
  "name": "Chapter17"
 }, 
 "nbformat": 2, 
 "worksheets": [
  {
   "cells": [
    {
     "cell_type": "code", 
     "collapsed": false, 
     "input": [
      "# Exercise 17.1", 
      "", 
      "class Time(object):", 
      "    \"\"\"represents the time of day.", 
      "    attributes: hour, minute, second", 
      "    \"\"\"", 
      "    def time_to_int(self):", 
      "        minutes = self.hour * 60 + self.minute", 
      "        seconds = minutes * 60 + self.second", 
      "        return seconds", 
      "    ", 
      "", 
      "start = Time()", 
      "start.hour = 0", 
      "start.minute = 5", 
      "start.second = 0", 
      "", 
      "start.time_to_int()"
     ], 
     "language": "python", 
     "outputs": [
      {
       "output_type": "pyout", 
       "prompt_number": 6, 
       "text": [
        "300"
       ]
      }
     ], 
     "prompt_number": 6
    }, 
    {
     "cell_type": "code", 
     "collapsed": false, 
     "input": [
      "# Exercise 17.2", 
      "", 
      "class Point(object):", 
      "    \"\"\"represents a point in 2-D space", 
      "    attributes: x coordinate, y coordinate", 
      "    \"\"\"", 
      "    ", 
      "    def __init__(self, x=0.0, y=0.0):", 
      "        self.x = x", 
      "        self.y = y", 
      "        ", 
      "p = Point()", 
      "print p.x", 
      "print p.y", 
      "        ", 
      "p = Point(3.0,4.0)", 
      "print p.x", 
      "print p.y"
     ], 
     "language": "python", 
     "outputs": [
      {
       "output_type": "stream", 
       "stream": "stdout", 
       "text": [
        "0.0", 
        "0.0", 
        "3.0", 
        "4.0"
       ]
      }
     ], 
     "prompt_number": 12
    }, 
    {
     "cell_type": "code", 
     "collapsed": true, 
     "input": [], 
     "language": "python", 
     "outputs": [], 
     "prompt_number": "&nbsp;"
    }
   ]
  }
 ]
}