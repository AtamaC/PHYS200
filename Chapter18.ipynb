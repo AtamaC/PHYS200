{
 "metadata": {
  "name": "Chapter18"
 }, 
 "nbformat": 2, 
 "worksheets": [
  {
   "cells": [
    {
     "cell_type": "code", 
     "collapsed": false, 
     "input": [
      "class Card(object):", 
      "    \"\"\"represents a standard playing card.\"\"\"", 
      "    ", 
      "    def __init__(self,suit=0,rank=2):", 
      "        self.suit = suit", 
      "        self.rank = rank", 
      "        ", 
      "    suit_names = ['Clubs', 'Diamonds', 'Hearts', 'Spaces']", 
      "    rank_names = [None, 'Ace', '2', '3', '4', '5', '6', '7',", 
      "                  '8', '9', '10', 'Jack', 'Queen', 'King']", 
      "    ", 
      "    def __str__(self):", 
      "        return '%s of %s' % (Card.rank_names[self.rank],", 
      "                             Card.suit_names[self.suit])", 
      "    ", 
      "    def __cmp__(self, other):", 
      "        # check the suits", 
      "        if self.suit > other.suit: return 1", 
      "        if self.suit < other.suit: return -1", 
      "        ", 
      "        # suits are the same... check ranks", 
      "        if self.rank > other.rank: return 1", 
      "        if self.rank < other.rank: return -1", 
      "        ", 
      "        # ranks are the same... it's a tie", 
      "        return 0", 
      "", 
      "", 
      "", 
      "card1 = Card(2,11)", 
      "print card1"
     ], 
     "language": "python", 
     "outputs": [
      {
       "output_type": "stream", 
       "stream": "stdout", 
       "text": [
        "Jack of Hearts"
       ]
      }
     ], 
     "prompt_number": 16
    }, 
    {
     "cell_type": "code", 
     "collapsed": false, 
     "input": [
      "# Exercise 18.1", 
      "", 
      "class Time(object):", 
      "    \"\"\"represents the time of day.", 
      "    attributes: hour, minute, second", 
      "    \"\"\"", 
      "    ", 
      "    def __init__(self,hour=0,minute=0,second=0):", 
      "        self.hour = hour", 
      "        self.minute = minute", 
      "        self.second = second", 
      "    ", 
      "    def __str__(self):", 
      "        return \"%.2d:%.2d:%.2d\" % (self.hour,self.minute,self.second)", 
      "    ", 
      "    def __cmp__(self, other):", 
      "        return self.time_to_int() - other.time_to_int()", 
      "    ", 
      "    def time_to_int(self):", 
      "        minutes = self.hour * 60 + self.minute", 
      "        seconds = minutes * 60 + self.second", 
      "        return seconds", 
      "", 
      "t1 = Time(4,5,30)", 
      "print t1", 
      "t2 = Time(4,5,30)", 
      "print t2", 
      "", 
      "t1 == t2"
     ], 
     "language": "python", 
     "outputs": [
      {
       "output_type": "stream", 
       "stream": "stdout", 
       "text": [
        "04:05:30", 
        "04:05:30"
       ]
      }, 
      {
       "output_type": "pyout", 
       "prompt_number": 30, 
       "text": [
        "True"
       ]
      }
     ], 
     "prompt_number": 30
    }, 
    {
     "cell_type": "code", 
     "collapsed": true, 
     "input": [], 
     "language": "python", 
     "outputs": [], 
     "prompt_number": "&nbsp;"
    }
   ]
  }
 ]
}