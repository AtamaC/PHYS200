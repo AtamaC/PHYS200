{
 "metadata": {
  "name": "Chapter3Exercises"
 }, 
 "nbformat": 2, 
 "worksheets": [
  {
   "cells": [
    {
     "cell_type": "code", 
     "collapsed": true, 
     "input": [
      "# Exercise 3.1"
     ], 
     "language": "python", 
     "outputs": [], 
     "prompt_number": 35
    }, 
    {
     "cell_type": "code", 
     "collapsed": false, 
     "input": [
      "repeat_lyrics()", 
      "", 
      "def print_lyrics():", 
      "    print \"I'm a lumberjack, and I'm okay.\"", 
      "    print \"I sleep all night and I work all day.\"", 
      "    ", 
      "def repeat_lyrics():", 
      "    print_lyrics()", 
      "    print_lyrics()"
     ], 
     "language": "python", 
     "outputs": [
      {
       "ename": "NameError", 
       "evalue": "name 'repeat_lyrics' is not defined", 
       "output_type": "pyerr", 
       "traceback": [
        "<span class=\"ansired\">---------------------------------------------------------------------------</span>\n<span class=\"ansired\">NameError</span>                                 Traceback (most recent call last)", 
        "<span class=\"ansigreen\">/home/michael/PHYS200/&lt;ipython-input-2-d96e9c62917c&gt;</span> in <span class=\"ansicyan\">&lt;module&gt;</span><span class=\"ansiblue\">()</span>\n<span class=\"ansigreen\">----&gt; 1</span><span class=\"ansiyellow\"> </span>repeat_lyrics<span class=\"ansiyellow\">(</span><span class=\"ansiyellow\">)</span><span class=\"ansiyellow\"></span>\n<span class=\"ansigreen\">      2</span> <span class=\"ansiyellow\"></span>\n<span class=\"ansigreen\">      3</span> <span class=\"ansigreen\">def</span> print_lyrics<span class=\"ansiyellow\">(</span><span class=\"ansiyellow\">)</span><span class=\"ansiyellow\">:</span><span class=\"ansiyellow\"></span>\n<span class=\"ansigreen\">      4</span>     <span class=\"ansigreen\">print</span> <span class=\"ansiblue\">&quot;I&apos;m a lumberjack, and I&apos;m okay.&quot;</span><span class=\"ansiyellow\"></span>\n<span class=\"ansigreen\">      5</span>     <span class=\"ansigreen\">print</span> <span class=\"ansiblue\">&quot;I sleep all night and I work all day.&quot;</span><span class=\"ansiyellow\"></span>\n", 
        "<span class=\"ansired\">NameError</span>: name &apos;repeat_lyrics&apos; is not defined"
       ]
      }
     ], 
     "prompt_number": 2
    }, 
    {
     "cell_type": "code", 
     "collapsed": true, 
     "input": [
      "# Exercise 3.2"
     ], 
     "language": "python", 
     "outputs": [], 
     "prompt_number": 3
    }, 
    {
     "cell_type": "code", 
     "collapsed": false, 
     "input": [
      "def repeat_lyrics():", 
      "    print_lyrics()", 
      "    print_lyrics()", 
      "", 
      "def print_lyrics():", 
      "    print \"I'm a lumberjack, and I'm okay.\"", 
      "    print \"I sleep all night and I work all day.\"", 
      "", 
      "repeat_lyrics()"
     ], 
     "language": "python", 
     "outputs": [
      {
       "output_type": "stream", 
       "stream": "stdout", 
       "text": [
        "I&apos;m a lumberjack, and I&apos;m okay.", 
        "I sleep all night and I work all day.", 
        "I&apos;m a lumberjack, and I&apos;m okay.", 
        "I sleep all night and I work all day."
       ]
      }
     ], 
     "prompt_number": 4
    }, 
    {
     "cell_type": "code", 
     "collapsed": true, 
     "input": [
      "# Exercise 3.3"
     ], 
     "language": "python", 
     "outputs": [], 
     "prompt_number": 18
    }, 
    {
     "cell_type": "code", 
     "collapsed": false, 
     "input": [
      "def right_justify(s):", 
      "    s = ' ' * (70 - len(s)) + s", 
      "    print s", 
      "", 
      "right_justify('allen')"
     ], 
     "language": "python", 
     "outputs": [
      {
       "output_type": "stream", 
       "stream": "stdout", 
       "text": [
        "                                                                 allen"
       ]
      }
     ], 
     "prompt_number": 19
    }, 
    {
     "cell_type": "code", 
     "collapsed": true, 
     "input": [
      "# Exercise 3.4"
     ], 
     "language": "python", 
     "outputs": [], 
     "prompt_number": 17
    }, 
    {
     "cell_type": "code", 
     "collapsed": false, 
     "input": [
      "# 3.4.1", 
      "", 
      "def do_twice(f):", 
      "    f()", 
      "    f()", 
      "    ", 
      "def print_spam():", 
      "    print 'spam'", 
      "", 
      "do_twice(print_spam)"
     ], 
     "language": "python", 
     "outputs": [
      {
       "output_type": "stream", 
       "stream": "stdout", 
       "text": [
        "spam", 
        "spam"
       ]
      }
     ], 
     "prompt_number": 20
    }, 
    {
     "cell_type": "code", 
     "collapsed": true, 
     "input": [
      "# 3.4.2", 
      "", 
      "def do_twice(f,a):", 
      "    f(a)", 
      "    f(a)"
     ], 
     "language": "python", 
     "outputs": [], 
     "prompt_number": 23
    }, 
    {
     "cell_type": "code", 
     "collapsed": true, 
     "input": [
      "# 3.4.3", 
      "", 
      "def print_twice(s):", 
      "    print s", 
      "    print s"
     ], 
     "language": "python", 
     "outputs": [], 
     "prompt_number": 26
    }, 
    {
     "cell_type": "code", 
     "collapsed": false, 
     "input": [
      "# 3.4.4", 
      "", 
      "do_twice(print_twice,'spam')"
     ], 
     "language": "python", 
     "outputs": [
      {
       "output_type": "stream", 
       "stream": "stdout", 
       "text": [
        "spam", 
        "spam", 
        "spam", 
        "spam"
       ]
      }
     ], 
     "prompt_number": 27
    }, 
    {
     "cell_type": "code", 
     "collapsed": true, 
     "input": [
      "# 3.4.5", 
      "", 
      "def do_four(f,a):", 
      "    do_twice(f,a)", 
      "    do_twice(f,a)"
     ], 
     "language": "python", 
     "outputs": [], 
     "prompt_number": 29
    }, 
    {
     "cell_type": "code", 
     "collapsed": true, 
     "input": [
      "# Exercise 3.5"
     ], 
     "language": "python", 
     "outputs": [], 
     "prompt_number": 30
    }, 
    {
     "cell_type": "code", 
     "collapsed": false, 
     "input": [
      "# 3.5.1", 
      "", 
      "def do_twice2(f,a,b):", 
      "    f(a,b)", 
      "    f(a,b)", 
      "    ", 
      "def row_space(a,b):", 
      "    print a", 
      "    do_twice(print_twice,b)", 
      "    ", 
      "def print_grid():", 
      "    row = '+----+----+'", 
      "    space = '|    |    |'", 
      "    do_twice2(row_space,row,space)", 
      "    print row", 
      "    ", 
      "print_grid()"
     ], 
     "language": "python", 
     "outputs": [
      {
       "output_type": "stream", 
       "stream": "stdout", 
       "text": [
        "+----+----+", 
        "|    |    |", 
        "|    |    |", 
        "|    |    |", 
        "|    |    |", 
        "+----+----+", 
        "|    |    |", 
        "|    |    |", 
        "|    |    |", 
        "|    |    |", 
        "+----+----+"
       ]
      }
     ], 
     "prompt_number": 46
    }, 
    {
     "cell_type": "code", 
     "collapsed": false, 
     "input": [
      "# 3.5.2", 
      "", 
      "def do_four(f,a,b):", 
      "    do_twice2(f,a,b)", 
      "    do_twice2(f,a,b)", 
      "", 
      "def print_grid():", 
      "    row = '+----+----+----+----+'", 
      "    space = '|    |    |    |    |'", 
      "    do_four(row_space,row,space)", 
      "    print row", 
      "    ", 
      "print_grid()"
     ], 
     "language": "python", 
     "outputs": [
      {
       "output_type": "stream", 
       "stream": "stdout", 
       "text": [
        "+----+----+----+----+", 
        "|    |    |    |    |", 
        "|    |    |    |    |", 
        "|    |    |    |    |", 
        "|    |    |    |    |", 
        "+----+----+----+----+", 
        "|    |    |    |    |", 
        "|    |    |    |    |", 
        "|    |    |    |    |", 
        "|    |    |    |    |", 
        "+----+----+----+----+", 
        "|    |    |    |    |", 
        "|    |    |    |    |", 
        "|    |    |    |    |", 
        "|    |    |    |    |", 
        "+----+----+----+----+", 
        "|    |    |    |    |", 
        "|    |    |    |    |", 
        "|    |    |    |    |", 
        "|    |    |    |    |", 
        "+----+----+----+----+"
       ]
      }
     ], 
     "prompt_number": 47
    }
   ]
  }
 ]
}