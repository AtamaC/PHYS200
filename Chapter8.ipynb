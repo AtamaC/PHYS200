{
 "metadata": {
  "name": "Chapter 8"
 }, 
 "nbformat": 2, 
 "worksheets": [
  {
   "cells": [
    {
     "cell_type": "code", 
     "collapsed": true, 
     "input": [
      "# Exercise 8.1", 
      "", 
      "def reverse_word(string):", 
      "    index = len(string)", 
      "    while index > 0:", 
      "        letter = string[index - 1]", 
      "        print letter", 
      "        index = index - 1"
     ], 
     "language": "python", 
     "outputs": [], 
     "prompt_number": 16
    }, 
    {
     "cell_type": "code", 
     "collapsed": false, 
     "input": [
      "word = 'inverted'", 
      "reverse_word(word)"
     ], 
     "language": "python", 
     "outputs": [
      {
       "output_type": "stream", 
       "stream": "stdout", 
       "text": [
        "d", 
        "e", 
        "t", 
        "r", 
        "e", 
        "v", 
        "n", 
        "i"
       ]
      }
     ], 
     "prompt_number": 18
    }, 
    {
     "cell_type": "code", 
     "collapsed": false, 
     "input": [
      "# Exercise 8.2", 
      "", 
      "prefixes = 'JKLMNOPQ'", 
      "suffix = 'ack'", 
      "", 
      "for letter in prefixes:", 
      "    if letter == 'O' or letter == 'Q':", 
      "        print letter + 'u' + suffix", 
      "    else:", 
      "        print letter + suffix"
     ], 
     "language": "python", 
     "outputs": [
      {
       "output_type": "stream", 
       "stream": "stdout", 
       "text": [
        "Jack", 
        "Kack", 
        "Lack", 
        "Mack", 
        "Nack", 
        "Ouack", 
        "Pack", 
        "Quack"
       ]
      }
     ], 
     "prompt_number": 23
    }, 
    {
     "cell_type": "code", 
     "collapsed": false, 
     "input": [
      "# Exercise 8.3", 
      "# fruit[:] means to the whole string fruit"
     ], 
     "language": "python", 
     "outputs": [
      {
       "output_type": "pyout", 
       "prompt_number": 26, 
       "text": [
        "&apos;banana&apos;"
       ]
      }
     ], 
     "prompt_number": 26
    }, 
    {
     "cell_type": "code", 
     "collapsed": true, 
     "input": [
      "# Exercise 8.4", 
      "", 
      "def find(word, letter, index):", 
      "    while index < len(word):", 
      "        if word[index] == letter:", 
      "            return index", 
      "        index = index + 1", 
      "    return -1"
     ], 
     "language": "python", 
     "outputs": [], 
     "prompt_number": 3
    }, 
    {
     "cell_type": "code", 
     "collapsed": true, 
     "input": [
      "# Exercise 8.5", 
      "", 
      "def count(word, char):", 
      "    count = 0", 
      "    for letter in word:", 
      "        if letter == char:", 
      "            count = count + 1", 
      "    print count"
     ], 
     "language": "python", 
     "outputs": [], 
     "prompt_number": 52
    }, 
    {
     "cell_type": "code", 
     "collapsed": false, 
     "input": [
      "# Exercise 8.6", 
      "", 
      "def count(word, char):", 
      "    count = 0", 
      "    index = 0", 
      "    while True:", 
      "        index = find(word, char, index)", 
      "        if index == -1:", 
      "            break", 
      "        else:", 
      "            count = count + 1", 
      "            index = index + 1", 
      "    print count"
     ], 
     "language": "python", 
     "outputs": [], 
     "prompt_number": 9
    }, 
    {
     "cell_type": "code", 
     "collapsed": false, 
     "input": [
      "# Exercise .8.7", 
      "", 
      "word = 'banana'", 
      "word.count('a')"
     ], 
     "language": "python", 
     "outputs": [
      {
       "output_type": "pyout", 
       "prompt_number": 14, 
       "text": [
        "3"
       ]
      }
     ], 
     "prompt_number": 14
    }, 
    {
     "cell_type": "code", 
     "collapsed": false, 
     "input": [
      "# Exercise 8.8", 
      "", 
      "def is_reverse(word1,word2):", 
      "    if len(word1) != len(word2):", 
      "        return False", 
      "    ", 
      "    i = 0", 
      "    j = len(word2) - 1", 
      "    ", 
      "    while j >= 0:", 
      "        if word1[i] != word2[j]:", 
      "            return False", 
      "        i = i + 1", 
      "        j = j - 1", 
      "        ", 
      "    return True"
     ], 
     "language": "python", 
     "outputs": [
      {
       "output_type": "pyout", 
       "prompt_number": 21, 
       "text": [
        "True"
       ]
      }
     ], 
     "prompt_number": 21
    }, 
    {
     "cell_type": "code", 
     "collapsed": false, 
     "input": [
      "# Exercise 8.9", 
      "", 
      "def is_palindrome(word):", 
      "    return word == word[::-1]"
     ], 
     "language": "python", 
     "outputs": [], 
     "prompt_number": 29
    }, 
    {
     "cell_type": "code", 
     "collapsed": false, 
     "input": [
      "# Exercise 8.11", 
      "", 
      "# any_lowercase1() determines if the first letter in a string is upper or lower case", 
      "", 
      "# any_lowercase2() always returns true because the character 'c' is lower case", 
      "", 
      "# any_lowercase3() determines if the last letter in a string is upper or lower case", 
      "", 
      "# any_lowercase4() works as intended", 
      "", 
      "# any_lowercase5() determines if the entire string is lower case"
     ], 
     "language": "python", 
     "outputs": [], 
     "prompt_number": 37
    }, 
    {
     "cell_type": "code", 
     "collapsed": false, 
     "input": [
      "# Exercise 8.12", 
      "", 
      "def rotate_word(string,key):", 
      "    index = 0", 
      "    rotated_string = ''", 
      "    ", 
      "    while index < len(string):", 
      "        num_value = ord(string[index])", 
      "        ", 
      "        if num_value > 64 and num_value < 91:  # keeps uppercase letters as uppercase shifted", 
      "            ", 
      "            if num_value + key > 90: ", 
      "                rot_num_value = num_value + key - 26", 
      "            elif num_value + key < 65:", 
      "                rot_num_value = num_value + key + 26", 
      "            else:", 
      "                rot_num_value = num_value + key", 
      "                ", 
      "        elif num_value > 96 and num_value < 123: # keeps lowercase letters as lowercase shifted", 
      "            ", 
      "            if num_value + key > 122: ", 
      "                rot_num_value = num_value + key - 26", 
      "            elif num_value + key < 97:", 
      "                rot_num_value = num_value + key + 26", 
      "            else:", 
      "                rot_num_value = num_value + key", 
      "                ", 
      "        else:", 
      "            rot_num_value = num_value # keeps msc characters the same", 
      "        ", 
      "        rotated_string = rotated_string + chr(rot_num_value)", 
      "        index = index + 1", 
      "        ", 
      "    return rotated_string"
     ], 
     "language": "python", 
     "outputs": [], 
     "prompt_number": 97
    }
   ]
  }
 ]
}