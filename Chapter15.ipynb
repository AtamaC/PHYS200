{
 "metadata": {
  "name": "Chapter15"
 }, 
 "nbformat": 2, 
 "worksheets": [
  {
   "cells": [
    {
     "cell_type": "code", 
     "collapsed": false, 
     "input": [
      "# Exercise 15.1", 
      "", 
      "class Point(object):", 
      "    \"\"\"represents a point in 2-D space\"\"\"", 
      "    ", 
      "", 
      "def distance(p1,p2):", 
      "    import math", 
      "    dis = math.sqrt((p1.x - p2.x)**2 + (p1.y - p2.y)**2)", 
      "    ", 
      "    return dis", 
      "", 
      "", 
      "p1 = Point()", 
      "p2 = Point()", 
      "", 
      "p1.x = 3.0", 
      "p1.y = -4.0", 
      "", 
      "p2.x = 0.0", 
      "p2.y = 0.0", 
      "", 
      "distance(p1,p2)"
     ], 
     "language": "python", 
     "outputs": [
      {
       "output_type": "pyout", 
       "prompt_number": 15, 
       "text": [
        "5.0"
       ]
      }
     ], 
     "prompt_number": 15
    }, 
    {
     "cell_type": "code", 
     "collapsed": false, 
     "input": [
      "# Exercise 15.2", 
      "", 
      "class Rectangle(object):", 
      "    \"\"\"represents a rectangle.", 
      "       attributes: width, height, corner.", 
      "    \"\"\"", 
      "", 
      "def move_rectangle(rect,dx,dy):", 
      "    rect.corner.x += dx", 
      "    rect.corner.y += dy", 
      "", 
      "", 
      "    ", 
      "box = Rectangle()", 
      "box.width = 100.0", 
      "box.height = 200.0", 
      "box.corner = Point()", 
      "box.corner.x = 0.0", 
      "box.corner.y = 0.0", 
      "", 
      "move_rectangle(box,5,3)", 
      "", 
      "print box.corner.x", 
      "print box.corner.y"
     ], 
     "language": "python", 
     "outputs": [
      {
       "output_type": "stream", 
       "stream": "stdout", 
       "text": [
        "5.0", 
        "3.0"
       ]
      }
     ], 
     "prompt_number": 33
    }, 
    {
     "cell_type": "code", 
     "collapsed": false, 
     "input": [
      "# Exercise 15.3", 
      "", 
      "def move_rectangle(rect,dx,dy):", 
      "    import copy", 
      "    ", 
      "    newrect = copy.deepcopy(rect)", 
      "    newrect.corner.x += dx", 
      "    newrect.corner.y += dy", 
      "    ", 
      "    return newrect", 
      "", 
      "box = Rectangle()", 
      "box.width = 100.0", 
      "box.height = 200.0", 
      "box.corner = Point()", 
      "box.corner.x = 0.0", 
      "box.corner.y = 0.0", 
      "", 
      "newbox = move_rectangle(box,5,3)", 
      "", 
      "print box.corner.x", 
      "print box.corner.y", 
      "print newbox.corner.x", 
      "print newbox.corner.y"
     ], 
     "language": "python", 
     "outputs": [
      {
       "output_type": "stream", 
       "stream": "stdout", 
       "text": [
        "0.0", 
        "0.0", 
        "5.0", 
        "3.0"
       ]
      }
     ], 
     "prompt_number": 34
    }, 
    {
     "cell_type": "code", 
     "collapsed": true, 
     "input": [], 
     "language": "python", 
     "outputs": [], 
     "prompt_number": "&nbsp;"
    }
   ]
  }
 ]
}