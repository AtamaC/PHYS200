{
 "metadata": {
  "name": "Chapter15"
 }, 
 "nbformat": 2, 
 "worksheets": [
  {
   "cells": [
    {
     "cell_type": "code", 
     "collapsed": false, 
     "input": [
      "# Exercise 15.1", 
      "", 
      "class Point(object):", 
      "    \"\"\"represents a point in 2-D space\"\"\"", 
      "    ", 
      "", 
      "def distance(p1,p2):", 
      "    import math", 
      "    dis = math.sqrt((p1.x - p2.x)**2 + (p1.y - p2.y)**2)", 
      "    ", 
      "    return dis", 
      "", 
      "", 
      "p1 = Point()", 
      "p2 = Point()", 
      "", 
      "p1.x = 3.0", 
      "p1.y = -4.0", 
      "", 
      "p2.x = 0.0", 
      "p2.y = 0.0", 
      "", 
      "distance(p1,p2)"
     ], 
     "language": "python", 
     "outputs": [
      {
       "output_type": "pyout", 
       "prompt_number": 15, 
       "text": [
        "5.0"
       ]
      }
     ], 
     "prompt_number": 15
    }, 
    {
     "cell_type": "code", 
     "collapsed": true, 
     "input": [], 
     "language": "python", 
     "outputs": [], 
     "prompt_number": "&nbsp;"
    }
   ]
  }
 ]
}