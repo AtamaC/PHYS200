{
 "metadata": {
  "name": "Chapter 10"
 }, 
 "nbformat": 2, 
 "worksheets": [
  {
   "cells": [
    {
     "cell_type": "code", 
     "collapsed": false, 
     "input": [
      "# Exercise 10.1", 
      "", 
      "def cumulative_sum(t):", 
      "    cumulative = []", 
      "    for i in range(len(t)):", 
      "        summation = sum(t[:i+1])", 
      "        cumulative.append(summation)", 
      "    return cumulative", 
      "                        ", 
      "    ", 
      "    ", 
      "List = [1,2,3,4,5,6,7,8,9,10]", 
      "cumulative_sum(List)"
     ], 
     "language": "python", 
     "outputs": [
      {
       "output_type": "pyout", 
       "prompt_number": 15, 
       "text": [
        "[1, 3, 6, 10, 15, 21, 28, 36, 45, 55]"
       ]
      }
     ], 
     "prompt_number": 15
    }, 
    {
     "cell_type": "code", 
     "collapsed": false, 
     "input": [
      "# Exercise 10.2", 
      "", 
      "def chop(t):", 
      "    end = len(t) - 1", 
      "    del t[end]", 
      "    del t[0]", 
      "    return None", 
      "", 
      "def middle(t):", 
      "    end = len(t) - 1", 
      "    n = t[1:end]", 
      "    return n", 
      "    ", 
      "", 
      "a = [0,1,2,3,4,5]", 
      "chop(a)", 
      "print a", 
      "a = [0,1,2,3,4,5]", 
      "middle(a)"
     ], 
     "language": "python", 
     "outputs": [
      {
       "output_type": "stream", 
       "stream": "stdout", 
       "text": [
        "[1, 2, 3, 4]"
       ]
      }, 
      {
       "output_type": "pyout", 
       "prompt_number": 29, 
       "text": [
        "[1, 2, 3, 4]"
       ]
      }
     ], 
     "prompt_number": 29
    }, 
    {
     "cell_type": "code", 
     "collapsed": false, 
     "input": [
      "# Exercise 10.3", 
      "", 
      "def is_sorted(t):", 
      "    sorted = t[:]", 
      "    sorted.sort()", 
      "    return sorted == t"
     ], 
     "language": "python", 
     "outputs": [], 
     "prompt_number": 54
    }, 
    {
     "cell_type": "code", 
     "collapsed": false, 
     "input": [
      "is_sorted([1,2,2])"
     ], 
     "language": "python", 
     "outputs": [
      {
       "output_type": "pyout", 
       "prompt_number": 55, 
       "text": [
        "True"
       ]
      }
     ], 
     "prompt_number": 55
    }, 
    {
     "cell_type": "code", 
     "collapsed": false, 
     "input": [
      "is_sorted(['b','a'])"
     ], 
     "language": "python", 
     "outputs": [
      {
       "output_type": "pyout", 
       "prompt_number": 56, 
       "text": [
        "False"
       ]
      }
     ], 
     "prompt_number": 56
    }, 
    {
     "cell_type": "code", 
     "collapsed": false, 
     "input": [
      "def is_anagram(t,s):", 
      "    t = list(t)", 
      "    s = list(s)", 
      "    t.sort()", 
      "    s.sort()", 
      "    return s == t", 
      "", 
      "a = 'banana'", 
      "b = 'annaab'", 
      "c = 'bob'", 
      "", 
      "is_anagram(a,b)"
     ], 
     "language": "python", 
     "outputs": [
      {
       "output_type": "pyout", 
       "prompt_number": 60, 
       "text": [
        "True"
       ]
      }
     ], 
     "prompt_number": 60
    }, 
    {
     "cell_type": "code", 
     "collapsed": false, 
     "input": [
      "is_anagram(a,c)"
     ], 
     "language": "python", 
     "outputs": [
      {
       "output_type": "pyout", 
       "prompt_number": 59, 
       "text": [
        "False"
       ]
      }
     ], 
     "prompt_number": 59
    }, 
    {
     "cell_type": "code", 
     "collapsed": true, 
     "input": [], 
     "language": "python", 
     "outputs": [], 
     "prompt_number": "&nbsp;"
    }
   ]
  }
 ]
}