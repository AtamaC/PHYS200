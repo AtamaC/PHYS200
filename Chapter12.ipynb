{
 "metadata": {
  "name": "Chapter12"
 }, 
 "nbformat": 2, 
 "worksheets": [
  {
   "cells": [
    {
     "cell_type": "code", 
     "collapsed": false, 
     "input": [
      "# Exercise 12.1", 
      "", 
      "def sumall(*args):", 
      "    value = 0", 
      "    i = 0", 
      "    for element in args:", 
      "        value += args[i]", 
      "        i +=1", 
      "    return value", 
      "", 
      "sumall(1,2,3,4,5,6,7,8,9)"
     ], 
     "language": "python", 
     "outputs": [
      {
       "output_type": "pyout", 
       "prompt_number": 42, 
       "text": [
        "45"
       ]
      }
     ], 
     "prompt_number": 42
    }, 
    {
     "cell_type": "code", 
     "collapsed": false, 
     "input": [
      "# Exercise 12.2", 
      "", 
      "def sort_by_length(words):", 
      "    t = []", 
      "    for word in words:", 
      "        t.append((len(word),random.random(),word))", 
      "        ", 
      "    t.sort(reverse=True)", 
      "    ", 
      "    res = []", 
      "    for length,rand,word in t:", 
      "        res.append(word)", 
      "    return res", 
      "", 
      "sort_by_length(['aa','ab','bc','bb'])"
     ], 
     "language": "python", 
     "outputs": [
      {
       "output_type": "pyout", 
       "prompt_number": 57, 
       "text": [
        "[&apos;ab&apos;, &apos;bc&apos;, &apos;bb&apos;, &apos;aa&apos;]"
       ]
      }
     ], 
     "prompt_number": 57
    }, 
    {
     "cell_type": "code", 
     "collapsed": false, 
     "input": [
      "# Exercise 12.3", 
      "", 
      "def histogram(s):", 
      "    d = dict()", 
      "    for c in s:", 
      "        d[c] = d.get(c,0) + 1", 
      "    return d", 
      "", 
      "def most_frequent(word):", 
      "    d = histogram(word)", 
      "    t = []", 
      "    ", 
      "    for key in d:", 
      "        t.append([d[key],key])", 
      "    ", 
      "    t.sort(reverse=True)", 
      "    ", 
      "    i = 0", 
      "    for frequency in t:", 
      "        print t[i][1]", 
      "        i += 1", 
      "    return t", 
      "        ", 
      "most_frequent('banana')"
     ], 
     "language": "python", 
     "outputs": [
      {
       "output_type": "stream", 
       "stream": "stdout", 
       "text": [
        "a", 
        "n", 
        "b"
       ]
      }, 
      {
       "output_type": "pyout", 
       "prompt_number": 66, 
       "text": [
        "[[3, &apos;a&apos;], [2, &apos;n&apos;], [1, &apos;b&apos;]]"
       ]
      }
     ], 
     "prompt_number": 66
    }, 
    {
     "cell_type": "code", 
     "collapsed": true, 
     "input": [], 
     "language": "python", 
     "outputs": [], 
     "prompt_number": "&nbsp;"
    }
   ]
  }
 ]
}