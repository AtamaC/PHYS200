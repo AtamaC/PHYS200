{
 "metadata": {
  "name": "Chapter16"
 }, 
 "nbformat": 2, 
 "worksheets": [
  {
   "cells": [
    {
     "cell_type": "code", 
     "collapsed": false, 
     "input": [
      "# Exercise 16.1", 
      "", 
      "class Time(object):", 
      "    \"\"\"represents the time of day.", 
      "       attributes: hour, minute, second", 
      "    \"\"\"", 
      "    ", 
      "def print_time(time):", 
      "    print \"%.2d:%.2d:%.2d\" %(time.hour,time.minute,time.second)", 
      "    ", 
      "time = Time()", 
      "time.hour = 11", 
      "time.minute = 59", 
      "time.second = 30", 
      "", 
      "print_time(time)"
     ], 
     "language": "python", 
     "outputs": [
      {
       "output_type": "stream", 
       "stream": "stdout", 
       "text": [
        "11:59:30"
       ]
      }
     ], 
     "prompt_number": 2
    }, 
    {
     "cell_type": "code", 
     "collapsed": true, 
     "input": [], 
     "language": "python", 
     "outputs": [], 
     "prompt_number": "&nbsp;"
    }
   ]
  }
 ]
}