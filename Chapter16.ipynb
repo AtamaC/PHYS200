{
 "metadata": {
  "name": "Chapter16"
 }, 
 "nbformat": 2, 
 "worksheets": [
  {
   "cells": [
    {
     "cell_type": "code", 
     "collapsed": false, 
     "input": [
      "# Exercise 16.1", 
      "", 
      "class Time(object):", 
      "    \"\"\"represents the time of day.", 
      "       attributes: hour, minute, second", 
      "    \"\"\"", 
      "    ", 
      "def print_time(time):", 
      "    print \"%.2d:%.2d:%.2d\" %(time.hour,time.minute,time.second)", 
      "    ", 
      "time = Time()", 
      "time.hour = 11", 
      "time.minute = 59", 
      "time.second = 30", 
      "", 
      "print_time(time)"
     ], 
     "language": "python", 
     "outputs": [
      {
       "output_type": "stream", 
       "stream": "stdout", 
       "text": [
        "11:59:30"
       ]
      }
     ], 
     "prompt_number": 2
    }, 
    {
     "cell_type": "code", 
     "collapsed": false, 
     "input": [
      "# Exercise 16.2", 
      "", 
      "def is_after(t1,t2):", 
      "    return ((t1.hour > t2.hour) or (t1.hour == t2.hour and t1.minute > t2.minute) or ", 
      "            (t1.hour == t2.hour and t1.minute == t2.minute and t1.second > t2.second))", 
      "                                                                                     ", 
      "", 
      "t1 = Time()", 
      "t2 = Time()", 
      "", 
      "t1.hour = 4", 
      "t2.hour = 4", 
      "", 
      "t1.minute = 30", 
      "t2.minute = 30", 
      "", 
      "t1.second = 6", 
      "t2.second = 5", 
      "", 
      "is_after(t1,t2)"
     ], 
     "language": "python", 
     "outputs": [
      {
       "output_type": "pyout", 
       "prompt_number": 28, 
       "text": [
        "True"
       ]
      }
     ], 
     "prompt_number": 28
    }, 
    {
     "cell_type": "code", 
     "collapsed": false, 
     "input": [
      "# Exercise 16.3", 
      "", 
      "def increment(time, seconds):", 
      "    time.second += seconds", 
      "    ", 
      "    if time.second >= 60:", 
      "        increment(time, -60)", 
      "        time.minute += 1", 
      "        ", 
      "    if time.minute >= 60:", 
      "        time.minute -= 60", 
      "        time.hour += 1", 
      "    ", 
      "    if time.hour >= 24 and (time.minute > 0 or time.second > 0):", 
      "        time.hour = 0", 
      "        ", 
      "    return time", 
      "", 
      "time = Time()", 
      "time.hour = 23", 
      "time.minute = 30", 
      "time.second = 15", 
      "", 
      "print_time(time)", 
      "increment(time,1786)", 
      "print_time(time)"
     ], 
     "language": "python", 
     "outputs": [
      {
       "output_type": "stream", 
       "stream": "stdout", 
       "text": [
        "23:30:15", 
        "00:00:01"
       ]
      }
     ], 
     "prompt_number": 52
    }, 
    {
     "cell_type": "code", 
     "collapsed": false, 
     "input": [
      "# Exercise 16.4", 
      "", 
      "def increment(time, seconds):", 
      "    import copy", 
      "    ", 
      "    newtime = copy.copy(time)", 
      "    ", 
      "    newtime.second += seconds", 
      "    ", 
      "    if newtime.second >= 60:", 
      "        newtime = increment(newtime, -60)", 
      "        newtime.minute += 1", 
      "        ", 
      "    if newtime.minute >= 60:", 
      "        newtime.minute -= 60", 
      "        newtime.hour += 1", 
      "    ", 
      "    if newtime.hour >= 24 and (newtime.minute > 0 or newtime.second > 0):", 
      "        newtime.hour = 0", 
      "        ", 
      "    return newtime", 
      "", 
      "time = Time()", 
      "time.hour = 22", 
      "time.minute = 30", 
      "time.second = 15", 
      "", 
      "newtime = increment(time,5386)", 
      "print_time(time)", 
      "print_time(newtime)"
     ], 
     "language": "python", 
     "outputs": [
      {
       "output_type": "stream", 
       "stream": "stdout", 
       "text": [
        "22:30:15", 
        "00:00:01"
       ]
      }
     ], 
     "prompt_number": 81
    }, 
    {
     "cell_type": "code", 
     "collapsed": false, 
     "input": [
      "# Exercise 16.5", 
      "", 
      "def time_to_int(time):", 
      "    minutes = time.hour * 60 + time.minute", 
      "    seconds = minutes * 60 + time.second", 
      "    return seconds", 
      "", 
      "def int_to_time(seconds):", 
      "    time = Time()", 
      "    minutes, time.second = divmod(seconds, 60)", 
      "    time.hour, time.minute = divmod(minutes, 60)", 
      "    return time", 
      "", 
      "def increment(t,increment):", 
      "    ", 
      "    seconds = time_to_int(t) + increment", 
      "    newtime = int_to_time(seconds)", 
      "    ", 
      "    if newtime.hour >= 24 and (newtime.minute > 0 or newtime.second > 0):", 
      "        newtime.hour = 0", 
      "        ", 
      "    return newtime", 
      "", 
      "time = Time()", 
      "time.hour = 22", 
      "time.minute = 30", 
      "time.second = 15", 
      "", 
      "", 
      "newtime = increment(time,5386)", 
      "print_time(time)", 
      "print_time(newtime)"
     ], 
     "language": "python", 
     "outputs": [
      {
       "output_type": "stream", 
       "stream": "stdout", 
       "text": [
        "22:30:15", 
        "00:00:01"
       ]
      }
     ], 
     "prompt_number": 82
    }
   ]
  }
 ]
}