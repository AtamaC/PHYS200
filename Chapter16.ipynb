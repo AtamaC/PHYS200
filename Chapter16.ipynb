{
 "metadata": {
  "name": "Chapter16"
 }, 
 "nbformat": 2, 
 "worksheets": [
  {
   "cells": [
    {
     "cell_type": "code", 
     "collapsed": false, 
     "input": [
      "# Exercise 16.1", 
      "", 
      "class Time(object):", 
      "    \"\"\"represents the time of day.", 
      "       attributes: hour, minute, second", 
      "    \"\"\"", 
      "    ", 
      "def print_time(time):", 
      "    print \"%.2d:%.2d:%.2d\" %(time.hour,time.minute,time.second)", 
      "    ", 
      "time = Time()", 
      "time.hour = 11", 
      "time.minute = 59", 
      "time.second = 30", 
      "", 
      "print_time(time)"
     ], 
     "language": "python", 
     "outputs": [
      {
       "output_type": "stream", 
       "stream": "stdout", 
       "text": [
        "11:59:30"
       ]
      }
     ], 
     "prompt_number": 2
    }, 
    {
     "cell_type": "code", 
     "collapsed": false, 
     "input": [
      "# Exercise 16.2", 
      "", 
      "def is_after(t1,t2):", 
      "    return ((t1.hour > t2.hour) or (t1.hour == t2.hour and t1.minute > t2.minute) or ", 
      "            (t1.hour == t2.hour and t1.minute == t2.minute and t1.second > t2.second))", 
      "                                                                                     ", 
      "", 
      "t1 = Time()", 
      "t2 = Time()", 
      "", 
      "t1.hour = 4", 
      "t2.hour = 4", 
      "", 
      "t1.minute = 30", 
      "t2.minute = 30", 
      "", 
      "t1.second = 6", 
      "t2.second = 5", 
      "", 
      "is_after(t1,t2)"
     ], 
     "language": "python", 
     "outputs": [
      {
       "output_type": "pyout", 
       "prompt_number": 28, 
       "text": [
        "True"
       ]
      }
     ], 
     "prompt_number": 28
    }, 
    {
     "cell_type": "code", 
     "collapsed": false, 
     "input": [], 
     "language": "python", 
     "outputs": [
      {
       "output_type": "pyout", 
       "prompt_number": 6, 
       "text": [
        "False"
       ]
      }
     ], 
     "prompt_number": 6
    }, 
    {
     "cell_type": "code", 
     "collapsed": true, 
     "input": [], 
     "language": "python", 
     "outputs": [], 
     "prompt_number": "&nbsp;"
    }
   ]
  }
 ]
}