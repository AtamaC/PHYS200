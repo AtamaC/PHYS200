{
 "metadata": {
  "name": "Chapter11"
 }, 
 "nbformat": 2, 
 "worksheets": [
  {
   "cells": [
    {
     "cell_type": "code", 
     "collapsed": true, 
     "input": [
      "# Exercise 11.1", 
      "", 
      "fin = open('words.txt')", 
      "words = dict()", 
      "for line in fin:", 
      "    word = line.strip()", 
      "    words[word] = 0"
     ], 
     "language": "python", 
     "outputs": [], 
     "prompt_number": 9
    }, 
    {
     "cell_type": "code", 
     "collapsed": false, 
     "input": [
      "# Exercise 11.2", 
      "", 
      "def histogram(s):", 
      "    d = dict()", 
      "    for c in s:", 
      "        d[c] = d.get(c,0) + 1", 
      "    return d", 
      "    ", 
      "h = histogram('brontosaurus')", 
      "print h"
     ], 
     "language": "python", 
     "outputs": [
      {
       "output_type": "stream", 
       "stream": "stdout", 
       "text": [
        "{&apos;a&apos;: 1, &apos;b&apos;: 1, &apos;o&apos;: 2, &apos;n&apos;: 1, &apos;s&apos;: 2, &apos;r&apos;: 2, &apos;u&apos;: 2, &apos;t&apos;: 1}"
       ]
      }
     ], 
     "prompt_number": 22
    }, 
    {
     "cell_type": "code", 
     "collapsed": false, 
     "input": [
      "# Exercise 11.3", 
      "", 
      "def print_hist(h):", 
      "    key = h.keys()", 
      "    key.sort()", 
      "    for c in key:", 
      "        print c, h[c]", 
      "    ", 
      "", 
      "print_hist(h)"
     ], 
     "language": "python", 
     "outputs": [
      {
       "output_type": "stream", 
       "stream": "stdout", 
       "text": [
        "a 1", 
        "b 1", 
        "n 1", 
        "o 2", 
        "r 2", 
        "s 2", 
        "t 1", 
        "u 2"
       ]
      }
     ], 
     "prompt_number": 26
    }, 
    {
     "cell_type": "code", 
     "collapsed": false, 
     "input": [
      "# Exercise 11.4", 
      "", 
      "def reverse_lookup(d,v):", 
      "    t = []", 
      "    for k in d:", 
      "        if d[k] == v:", 
      "            t.append(k)", 
      "    if t == []:", 
      "        raise ValueError, 'value does not appear in the dictionary'", 
      "    else:", 
      "        return t", 
      "    ", 
      "h = histogram('parrot')", 
      "k = reverse_lookup(h,1)", 
      "print k"
     ], 
     "language": "python", 
     "outputs": [
      {
       "output_type": "stream", 
       "stream": "stdout", 
       "text": [
        "[&apos;a&apos;, &apos;p&apos;, &apos;t&apos;, &apos;o&apos;]"
       ]
      }
     ], 
     "prompt_number": 30
    }, 
    {
     "cell_type": "code", 
     "collapsed": false, 
     "input": [
      "# Exercise 11.5", 
      "", 
      "def invert_dict(d):", 
      "    inv = dict()", 
      "    for key in d:", 
      "        val = d[key]", 
      "        inv[val] = inv.setdefault(val,[key])", 
      "        if key not in inv[val]:", 
      "            inv[val].append(key)", 
      "    return inv", 
      "", 
      "hist = histogram('parrot')", 
      "print hist", 
      "inv = invert_dict(hist)", 
      "print inv"
     ], 
     "language": "python", 
     "outputs": [
      {
       "output_type": "stream", 
       "stream": "stdout", 
       "text": [
        "{&apos;a&apos;: 1, &apos;p&apos;: 1, &apos;r&apos;: 2, &apos;t&apos;: 1, &apos;o&apos;: 1}", 
        "{1: [&apos;a&apos;, &apos;p&apos;, &apos;t&apos;, &apos;o&apos;], 2: [&apos;r&apos;]}"
       ]
      }
     ], 
     "prompt_number": 54
    }, 
    {
     "cell_type": "code", 
     "collapsed": true, 
     "input": [], 
     "language": "python", 
     "outputs": [], 
     "prompt_number": "&nbsp;"
    }
   ]
  }
 ]
}